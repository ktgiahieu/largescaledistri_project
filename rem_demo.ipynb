{
 "cells": [
  {
   "cell_type": "code",
   "execution_count": null,
   "metadata": {},
   "outputs": [],
   "source": [
    "import time\n",
    "import cv2\n",
    "import PIL.Image\n",
    "from IPython.display import clear_output, display\n",
    "# Load the input image"
   ]
  },
  {
   "cell_type": "code",
   "execution_count": null,
   "metadata": {},
   "outputs": [],
   "source": [
    "img = cv2.imread('input_image.png')\n",
    "\n",
    "display(PIL.Image.fromarray(img[:,:,::-1]))"
   ]
  },
  {
   "cell_type": "code",
   "execution_count": null,
   "metadata": {},
   "outputs": [],
   "source": [
    "def rem_demo(): \n",
    "    img = cv2.imread('input_image.png')\n",
    "\n",
    "    # Create a window to display the image\n",
    "    # cv2.namedWindow(\"Image\", cv2.WINDOW_NORMAL)\n",
    "\n",
    "    # Set initial kernel size and standard deviation\n",
    "    kernel_size = 5\n",
    "    sigma = 0\n",
    "    \n",
    "    counter = 15\n",
    "\n",
    "    # Loop to modify the image in real-time\n",
    "    while counter!=0:\n",
    "        # Increase kernel size and standard deviation\n",
    "        kernel_size += 2\n",
    "        sigma += 0.5\n",
    "\n",
    "        # Apply Gaussian blur with current kernel size and standard deviation\n",
    "        img_blur = cv2.GaussianBlur(img, (kernel_size, kernel_size), sigma)\n",
    "\n",
    "        # Display the modified image\n",
    "        clear_output(wait=True)\n",
    "        display(PIL.Image.fromarray(img_blur[:,:,::-1]))\n",
    "\n",
    "\n",
    "        time.sleep(1)\n",
    "        \n",
    "        counter-=1\n",
    "\n",
    "    # Release the resources\n",
    "    cv2.destroyAllWindows()"
   ]
  },
  {
   "cell_type": "code",
   "execution_count": null,
   "metadata": {},
   "outputs": [],
   "source": [
    "rem_demo()"
   ]
  }
 ],
 "metadata": {
  "language_info": {
   "name": "python"
  },
  "orig_nbformat": 4
 },
 "nbformat": 4,
 "nbformat_minor": 2
}
